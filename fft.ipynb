{
  "nbformat": 4,
  "nbformat_minor": 0,
  "metadata": {
    "colab": {
      "provenance": [],
      "authorship_tag": "ABX9TyMQyt7LWw1276ns6iK8j4S8",
      "include_colab_link": true
    },
    "kernelspec": {
      "name": "python3",
      "display_name": "Python 3"
    },
    "language_info": {
      "name": "python"
    }
  },
  "cells": [
    {
      "cell_type": "markdown",
      "metadata": {
        "id": "view-in-github",
        "colab_type": "text"
      },
      "source": [
        "<a href=\"https://colab.research.google.com/github/zugbaa/racunalni_vid/blob/main/fft.ipynb\" target=\"_parent\"><img src=\"https://colab.research.google.com/assets/colab-badge.svg\" alt=\"Open In Colab\"/></a>"
      ]
    },
    {
      "cell_type": "code",
      "execution_count": 108,
      "metadata": {
        "colab": {
          "base_uri": "https://localhost:8080/",
          "height": 317
        },
        "id": "FUguJdQjTVzt",
        "outputId": "e20562d4-346d-426b-fd82-6fbf489cd33b"
      },
      "outputs": [
        {
          "output_type": "stream",
          "name": "stdout",
          "text": [
            "(225, 225)\n"
          ]
        },
        {
          "output_type": "stream",
          "name": "stderr",
          "text": [
            "/usr/local/lib/python3.8/dist-packages/matplotlib/cbook/__init__.py:1317: ComplexWarning: Casting complex values to real discards the imaginary part\n",
            "  return np.asarray(x, float)\n"
          ]
        },
        {
          "output_type": "display_data",
          "data": {
            "text/plain": [
              "<Figure size 432x288 with 1 Axes>"
            ],
            "image/png": "[encoded data removed]"
          },
          "metadata": {
            "needs_background": "light"
          }
        }
      ],
      "source": [
        "import cv2\n",
        "import numpy as np\n",
        "import math\n",
        "import cmath\n",
        "import matplotlib.pyplot as plt\n",
        "from google.colab.patches import cv2_imshow\n",
        "\n",
        "def getEven(f):\n",
        "  if f.shape[0] > 1:\n",
        "    getEven(f[0::2])\n",
        "  return f\n",
        "\n",
        "def getOdd(f):\n",
        "  if f.shape[0] > 1:\n",
        "    getOdd(f[1::2])\n",
        "  return f\n",
        "\n",
        "def fft(f):\n",
        "  print(f.shape)\n",
        "\n",
        "  A = f.shape[0]\n",
        "  j = 0\n",
        "  B = f.shape[1]\n",
        "\n",
        "  for j in range(B):\n",
        "\n",
        "    even = getEven(f[:,[j]])\n",
        "    odd = getOdd(f[:,[j]])\n",
        "    \n",
        "    tempArray = np.zeros(A).astype(np.complex64)\n",
        "\n",
        "    for u in range(A//2):\n",
        "      tempArray[u] = even[u] + cmath.exp(-2j*math.pi*u/A) * odd[u]\n",
        "      tempArray[u+A//2] = even[u] - cmath.exp(-2j*math.pi*u/A) * odd[u]\n",
        "\n",
        "    tempMatrix = np.zeros((A,B)).astype(np.complex64)\n",
        "    tempMatrix[j] = tempArray\n",
        "\n",
        "  return tempMatrix\n",
        "\n",
        "img = cv2.imread('picture.jpg')\n",
        "grayscale = cv2.cvtColor(img, cv2.COLOR_BGR2GRAY)\n",
        "a = np.asarray(grayscale)\n",
        "fftPicture = fft(a)\n",
        "\n",
        "plt.plot(fftPicture)\n",
        "plt.grid()\n",
        "plt.show()"
      ]
    }
  ]
}