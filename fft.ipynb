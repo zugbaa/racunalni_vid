{
  "nbformat": 4,
  "nbformat_minor": 0,
  "metadata": {
    "colab": {
      "provenance": [],
      "authorship_tag": "ABX9TyPaGuA+79caSAx35o4I2K8J",
      "include_colab_link": true
    },
    "kernelspec": {
      "name": "python3",
      "display_name": "Python 3"
    },
    "language_info": {
      "name": "python"
    }
  },
  "cells": [
    {
      "cell_type": "markdown",
      "metadata": {
        "id": "view-in-github",
        "colab_type": "text"
      },
      "source": [
        "<a href=\"https://colab.research.google.com/github/zugbaa/racunalni_vid/blob/main/fft.ipynb\" target=\"_parent\"><img src=\"https://colab.research.google.com/assets/colab-badge.svg\" alt=\"Open In Colab\"/></a>"
      ]
    },
    {
      "cell_type": "code",
      "execution_count": null,
      "metadata": {
        "id": "FUguJdQjTVzt"
      },
      "outputs": [],
      "source": [
        "import cv2\n",
        "import numpy as np\n",
        "import math\n",
        "import cmath\n",
        "import matplotlib.pyplot as plt\n",
        "from google.colab.patches import cv2_imshow\n",
        "\n",
        "def fft(f):\n",
        "  N = f.size\n",
        "  if N <= 1:\n",
        "    return f\n",
        "\n",
        "  even = fft(f[0::2])\n",
        "  odd = fft(f[1::2])\n",
        "\n",
        "  tempArray = np.zeros(N).astype(np.complex64)\n",
        "  for u in range(N//2):\n",
        "    tempArray[u] = even[u] + cmath.exp(-2j*math.pi*u/N) * odd[u]\n",
        "    tempArray[u+N//2] = even[u] - cmath.exp(-2j*math.pi*u/N) * odd[u]\n",
        "\n",
        "  return tempArray\n",
        "\n",
        "def ifft(f):\n",
        "  N = f.size\n",
        "  if N <= 1:\n",
        "    return f\n",
        "\n",
        "  even = fft(f[0::2])\n",
        "  odd = fft(f[1::2])\n",
        "\n",
        "  tempArray = np.zeros(N).astype(np.complex64)\n",
        "  for u in range(N//2):\n",
        "    tempArray[u] = even[u] + cmath.exp(2j*math.pi*u/N) * odd[u]\n",
        "    tempArray[u+N//2] = even[u] - cmath.exp(2j*math.pi*u/N) * odd[u]\n",
        "\n",
        "  return tempArray\n",
        "\n",
        "img = cv2.imread('fft_testt.png')\n",
        "grayscale = cv2.cvtColor(img, cv2.COLOR_BGR2GRAY)\n",
        "a = np.asarray(grayscale)\n",
        "\n",
        "s = a.shape[0]\n",
        "\n",
        "tempMatrix = np.zeros((s,s)).astype(np.complex64)\n",
        "\n",
        "RealFFT = np.fft.fft2(a)\n",
        "\n",
        "for i in range(s):\n",
        "  tempMatrix[i] = fft(a[i])\n",
        "\n",
        "for i in range(s):\n",
        "  tempMatrix[:,i] = fft(tempMatrix[:,i])\n",
        "\n",
        "#inverted_img = np.fft.ifft2(tempMatrix)\n",
        "inverted_img2 = np.fft.ifft2(RealFFT)\n",
        "\n",
        "print(tempMatrix)\n",
        "\n",
        "#cv2_imshow(inverted_img)\n",
        "cv2.waitKey(0)\n",
        "\n",
        "cv2_imshow(inverted_img2)\n",
        "cv2.waitKey(0)"
      ]
    },
    {
      "cell_type": "code",
      "source": [
        "import cv2\n",
        "import numpy as np\n",
        "import math\n",
        "import cmath\n",
        "import matplotlib.pyplot as plt\n",
        "from google.colab.patches import cv2_imshow\n",
        "\n",
        "def ifft(f):\n",
        "  N = f.size\n",
        "  if N <= 1:\n",
        "    return f\n",
        "\n",
        "  even = fft(f[0::2])\n",
        "  odd = fft(f[1::2])\n",
        "\n",
        "  tempArray = np.zeros(N).astype(np.complex64)\n",
        "  for u in range(N//2):\n",
        "    tempArray[u] = even[u] + cmath.exp(2j*math.pi*u/N) * odd[u]\n",
        "    tempArray[u+N//2] = even[u] - cmath.exp(2j*math.pi*u/N) * odd[u]\n",
        "\n",
        "  return tempArray\n",
        "\n",
        "img = cv2.imread('fft_testt.png')\n",
        "grayscale = cv2.cvtColor(img, cv2.COLOR_BGR2GRAY)\n",
        "#a = np.asarray(grayscale)\n",
        "a = [[1+3j, 4+6j],\n",
        "     [2+7j, 3+2j]]\n",
        "\n",
        "a = np.asarray(a)\n",
        "\n",
        "s = a.shape[0]\n",
        "tempMatrix = np.zeros((s,s)).astype(np.complex64)\n",
        "\n",
        "for i in range(s):\n",
        "  tempMatrix[i] = ifft(a[i])\n",
        "\n",
        "for i in range(s):\n",
        "  tempMatrix[:,i] = ifft(tempMatrix[:,i])\n",
        "\n",
        "print(tempMatrix)\n",
        "real_inv_FFT = np.fft.fft2(a)\n",
        "\n",
        "print(real_inv_FFT)\n",
        "\n",
        "\n",
        "\n",
        "\n"
      ],
      "metadata": {
        "colab": {
          "base_uri": "https://localhost:8080/"
        },
        "id": "LM3PX9RhaIOL",
        "outputId": "41be095e-75a9-4bd7-8ee8-dec286454f6b"
      },
      "execution_count": 116,
      "outputs": [
        {
          "output_type": "stream",
          "name": "stdout",
          "text": [
            "[[10.+18.j -4. +2.j]\n",
            " [ 0. +0.j -2. -8.j]]\n",
            "[[10.+18.j -4. +2.j]\n",
            " [ 0. +0.j -2. -8.j]]\n"
          ]
        }
      ]
    }
  ]
}